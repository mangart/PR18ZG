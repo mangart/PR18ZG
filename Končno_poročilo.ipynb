{
 "cells": [
  {
   "cell_type": "markdown",
   "metadata": {},
   "source": [
    "**<h1>Končno poročilo</h1>**"
   ]
  },
  {
   "cell_type": "markdown",
   "metadata": {},
   "source": [
    "**Žan Gostič 63150097**"
   ]
  },
  {
   "cell_type": "markdown",
   "metadata": {},
   "source": [
    "**<h2> 1. Prikaz prodaje novih vozil po znamkah</h2>** "
   ]
  },
  {
   "cell_type": "markdown",
   "metadata": {},
   "source": [
    "<p>Ta cilj je bil namenjen predvsem temu, da se spoznam s podatki, se jih naučim brati in tudi, da prikažem kakšn zanimiv prikaz prodaje/registracij novih vozil po znamkah. Naslednji graf prikazuje prodajo/število registracij novih vozil za leto 2017. Kot lahko vidimo je na vrhu Volkswagen, druga najbolj prodajana vozila pa so vozila znamke Renault.</p>"
   ]
  },
  {
   "cell_type": "markdown",
   "metadata": {},
   "source": [
    "<img src='slike\\Prikaz_prodaje_po_letih/prikaz2017.png' >"
   ]
  },
  {
   "cell_type": "markdown",
   "metadata": {},
   "source": [
    "<p>V direktoriju slike/Prikaz_prodaje_po_letih se nahajajo še ostali prikazi prodaje za ostala leta. Koda tega cilja pa se nahaja v datoteki <i><font color='red'>Prikaz_najbolj_kupovanih_vozil_po_znamkah.ipynb</font></i></p>"
   ]
  },
  {
   "cell_type": "markdown",
   "metadata": {},
   "source": [
    "**<h2>2. Prodaja Hot hatch vozil</h2>**"
   ]
  },
  {
   "cell_type": "markdown",
   "metadata": {},
   "source": [
    "<p>Pri tem vprašanju sem se spraševal ali se prodaja Hot hatch vozil (to so vozila z dvižnimi vrati zadaj in imajo več kot 180kw moči) povečuje s časom. Spodnji graf prikazuje, kako se je prodaja teh vozil povčevala od leta 2014 do leta 2017</p> "
   ]
  },
  {
   "cell_type": "markdown",
   "metadata": {},
   "source": [
    "<img src='slike/Prodaja_hot_hatch_vozil_po_letih/prikaz_hothatch_po_letih.png' >"
   ]
  },
  {
   "cell_type": "markdown",
   "metadata": {},
   "source": [
    "<p>Tu se vidi, da se je prodaja takih vozil v letu 2016 in 2017 precej zvišala. To je najverjetneje, zato ker je leta 2016 na tržišče prišel nov model vozila Ford Focus RS, ki nekako kraljuje v tem segmentu. V letu 2017 pa se je na tem področju pojavila še večja konkurenca z prihodom vozila Hyundai i30N. Kar pa še bolj zanimivo pa je, da so največ takih vozil kupile/registrerale pravne osebe, kar prikazuje modra črta na grafu. Tukaj se sprašujem zakaj bi podjetja potrebovala taka vozila? Zdi se mi, da te osebe take avtomobile kupijo zase na račun podjetja. Naslednji graf pa prikazuje katerih znamk so vozila in kolikšno število takih vozil je bilo registreranih.</p>"
   ]
  },
  {
   "cell_type": "markdown",
   "metadata": {},
   "source": [
    "<img src='slike/Prodaja_hot_hatch_vozil_po_letih/prikaz_hothatch_po_letih_za_vsak_model.png'  >"
   ]
  },
  {
   "cell_type": "markdown",
   "metadata": {},
   "source": [
    "<p>Na tem grafu lahko vidimo, da je naveč modelov Ford Focus ST na drugem mestu pa je Ford Focus RS. Tukaj je potrebno povedati, da je Ford Focus RS hitrejši in ima več konjev kot Ford Focus ST ampak je dražji, kot ST, zato je tukaj verjetno več nakupov STa kot RSa Naslednji graf pa prikazuje procentualno prodajo izmed vseh avtomobilov, ki so bili registrirani po letih. To se pravi kakšen delež iz celotne prodaje zavzemajo Hot hatch vozila. </p>"
   ]
  },
  {
   "cell_type": "markdown",
   "metadata": {},
   "source": [
    "<img src='slike/Procentualna_prodaja_hot_hatch_vozil/procentualna_prodaja_hothatch_po_letih.png' >"
   ]
  },
  {
   "cell_type": "markdown",
   "metadata": {},
   "source": [
    "<p> Tale prikaz lahko malo zavaja, ker zgleda da prodaja teh vozil zelo raste v resnici pa se je prodaja iz leta 2014 do leta 2017 zvišla za slaba 2%. Leta 2017 pa je prodaja hot hatch vozil obsegala 2% prodaje vseh vozil. Ostale slike za posamezno leto se nahajajo v direktoriju slike v ustreznem poddirektoriju koda pa e nahaja v datotekah <i><font color='red'>Prodaja_hot_hatch_vozil.ipynb</font></i> in datoteki <i><font color='red'>Hot_hatch_skozi_leta.ipynb</font></i></p>"
   ]
  },
  {
   "cell_type": "markdown",
   "metadata": {},
   "source": [
    "**<h2>3. Uvoz in nakup novih vozil</h2>**"
   ]
  },
  {
   "cell_type": "markdown",
   "metadata": {},
   "source": [
    "<p>Pi tem vprašanju me je zanimalo, če je res več rabljenih/uvoženih vozil, ki so cenejša, kot novih vozil. Naslednji graf prikazuje prodajo uvoženih/rabljenih vozil in novih vozil</p>"
   ]
  },
  {
   "cell_type": "markdown",
   "metadata": {},
   "source": [
    "<img src='slike/Uvoz_in_nakup_vozil_skozi_leta/prikaz_uvoza_in_nakupa.png' >"
   ]
  },
  {
   "cell_type": "markdown",
   "metadata": {},
   "source": [
    "<p>Tukaj lahko vidimo, da se nakup novih vozil zmanjšuje medtem, ko se nakup uvoženih/rabljenih vozil povečuje, kar je sicer logično, saj sta ti dve količini obratno sorazmerni. To pomeni, da ko se nakup novh vozil poveča se nakup rabljenih zmanjša in obratno. Naslednji graf pa prikazuje razmerje med nakupom rabljenih vozil fizičnih oseb in pravnih oseb</p>"
   ]
  },
  {
   "cell_type": "markdown",
   "metadata": {},
   "source": [
    "<img src='slike/Uvoz_in_nakup_vozil_skozi_leta/prikaz_uvoza_za_fizicne_in_pravne_osebe.png' >"
   ]
  },
  {
   "cell_type": "markdown",
   "metadata": {},
   "source": [
    "<p>Kot sem pričakoval, je nakup rabljenih vozil pri fizičnih osebah večji, je pa zanimivo, da se z leti ta trend obrača in nakup  rabljenih vozil pravnih oseb raste. Koda se nahaja v datoteki <i><font color='red'>Uvoz_vozil_po_letih.ipynb</font></i></p>"
   ]
  },
  {
   "cell_type": "markdown",
   "metadata": {},
   "source": [
    "**<h2>4. Nakup vozil glede na njihovo gorivo</h2>**"
   ]
  },
  {
   "cell_type": "markdown",
   "metadata": {},
   "source": [
    "<p>Pri tem vprašanju sem se predvsem spraševal ali se prodaja električnih vozil skozi leta povečuje. Naslednji graf prikazuje Procentno prodajo vozil z bencinskim, dizelskim in elektro motorjem po letih</p>"
   ]
  },
  {
   "cell_type": "markdown",
   "metadata": {},
   "source": [
    "<img src='slike/Prodaja_po_gorivih/prodaja_po_gorivih.png' >"
   ]
  },
  {
   "cell_type": "markdown",
   "metadata": {},
   "source": [
    "<p>Kot lahko vidimo v Sloveniji še vedno močno kraljujeta bencin in dizel. Elektrika pa je še vedno na dnu lestvice. Na tem grafu je zanimivo, da je na začetku prodaja dizelskih vozil večja od bencinskih, na koncu pa e ta trend obrne. Naslednji graf pa prikazuje samo procentualno prodajo električnih vozil, da prikažem, če se prodaja električnih vozil povečuje</p>"
   ]
  },
  {
   "cell_type": "markdown",
   "metadata": {},
   "source": [
    "<img src='slike/Prodaja_po_gorivih/prodaja_elektricnih_vozil.png' >"
   ]
  },
  {
   "cell_type": "markdown",
   "metadata": {},
   "source": [
    "<p>Kot lahko vidimo se je prodaja vseh električnih vozil od leta 2012 do leta 2017 zvišala za 4%, kar sicer ni veliko, ampak je vseeno korak v pravo smer. Koda se nahaja v datoteki <i><font color='red'>Pregled_vozil_po_gorivih.ipynb</font></i></p>"
   ]
  },
  {
   "cell_type": "markdown",
   "metadata": {},
   "source": [
    "**<h2>5. Nakup/prodaja Volkswagen vozil</h2>**"
   ]
  },
  {
   "cell_type": "markdown",
   "metadata": {},
   "source": []
  },
  {
   "cell_type": "code",
   "execution_count": null,
   "metadata": {
    "collapsed": true
   },
   "outputs": [],
   "source": []
  },
  {
   "cell_type": "code",
   "execution_count": null,
   "metadata": {
    "collapsed": true
   },
   "outputs": [],
   "source": []
  },
  {
   "cell_type": "code",
   "execution_count": null,
   "metadata": {
    "collapsed": true
   },
   "outputs": [],
   "source": []
  },
  {
   "cell_type": "code",
   "execution_count": null,
   "metadata": {
    "collapsed": true
   },
   "outputs": [],
   "source": []
  },
  {
   "cell_type": "code",
   "execution_count": null,
   "metadata": {
    "collapsed": true
   },
   "outputs": [],
   "source": []
  },
  {
   "cell_type": "code",
   "execution_count": null,
   "metadata": {
    "collapsed": true
   },
   "outputs": [],
   "source": []
  },
  {
   "cell_type": "code",
   "execution_count": null,
   "metadata": {
    "collapsed": true
   },
   "outputs": [],
   "source": []
  },
  {
   "cell_type": "code",
   "execution_count": null,
   "metadata": {
    "collapsed": true
   },
   "outputs": [],
   "source": []
  },
  {
   "cell_type": "code",
   "execution_count": null,
   "metadata": {
    "collapsed": true
   },
   "outputs": [],
   "source": []
  },
  {
   "cell_type": "code",
   "execution_count": null,
   "metadata": {
    "collapsed": true
   },
   "outputs": [],
   "source": []
  },
  {
   "cell_type": "code",
   "execution_count": null,
   "metadata": {
    "collapsed": true
   },
   "outputs": [],
   "source": []
  },
  {
   "cell_type": "code",
   "execution_count": null,
   "metadata": {
    "collapsed": true
   },
   "outputs": [],
   "source": []
  },
  {
   "cell_type": "code",
   "execution_count": null,
   "metadata": {
    "collapsed": true
   },
   "outputs": [],
   "source": []
  },
  {
   "cell_type": "code",
   "execution_count": null,
   "metadata": {
    "collapsed": true
   },
   "outputs": [],
   "source": []
  },
  {
   "cell_type": "code",
   "execution_count": null,
   "metadata": {
    "collapsed": true
   },
   "outputs": [],
   "source": []
  }
 ],
 "metadata": {
  "kernelspec": {
   "display_name": "Python 3",
   "language": "python",
   "name": "python3"
  },
  "language_info": {
   "codemirror_mode": {
    "name": "ipython",
    "version": 3
   },
   "file_extension": ".py",
   "mimetype": "text/x-python",
   "name": "python",
   "nbconvert_exporter": "python",
   "pygments_lexer": "ipython3",
   "version": "3.6.0"
  }
 },
 "nbformat": 4,
 "nbformat_minor": 2
}
