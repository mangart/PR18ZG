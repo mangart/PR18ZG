{
 "cells": [
  {
   "cell_type": "markdown",
   "metadata": {},
   "source": [
    "**<h1>Leto 2012</h1>**"
   ]
  },
  {
   "cell_type": "code",
   "execution_count": 1,
   "metadata": {
    "collapsed": false
   },
   "outputs": [],
   "source": [
    "uvoziPoLetih = []\n",
    "noviPoLetih = []\n",
    "pravnePoLetih = []\n",
    "fizicnePoLetih = []\n",
    "uvoz2012 = 0\n",
    "novi2012 = 0\n",
    "pravne2012 = 0\n",
    "fizicne2012 = 0\n",
    "stevec = 0\n",
    "\n",
    "from csv import DictReader\n",
    "\n",
    "reader = DictReader(open('podatki/2012/Vozila2012-1stRegs.csv','rt'), delimiter=';')\n",
    "for row in reader:\n",
    "    #print(row.keys())\n",
    "    if row['Kategorija vozila - opis'].lower() == 'osebni avtomobil':\n",
    "        stevec += 1\n",
    "        if row['Datum prve registracije'] != row['Datum prve registracije Slo']:\n",
    "            uvoz2012 += 1\n",
    "            if row['Lastnik fizična/pravna oseba'].upper() == \"F\":\n",
    "                fizicne2012 += 1\n",
    "            else:\n",
    "                pravne2012 += 1\n",
    "        else:\n",
    "            novi2012 += 1\n"
   ]
  },
  {
   "cell_type": "code",
   "execution_count": 2,
   "metadata": {
    "collapsed": false
   },
   "outputs": [],
   "source": [
    "fizicnePoLetih.append(fizicne2012 / uvoz2012)\n",
    "pravnePoLetih.append(pravne2012 / uvoz2012)\n",
    "uvoziPoLetih.append(uvoz2012 / stevec)\n",
    "noviPoLetih.append(novi2012 / stevec)"
   ]
  },
  {
   "cell_type": "code",
   "execution_count": 3,
   "metadata": {
    "collapsed": false
   },
   "outputs": [],
   "source": [
    "% matplotlib inline\n",
    "import matplotlib.image as mpimg\n",
    "import matplotlib.pyplot as plt\n",
    "plt.style.use('PR.mplstyle')"
   ]
  },
  {
   "cell_type": "markdown",
   "metadata": {},
   "source": [
    "**<h1>Leto 2013</h1>**"
   ]
  },
  {
   "cell_type": "code",
   "execution_count": 4,
   "metadata": {
    "collapsed": true
   },
   "outputs": [],
   "source": [
    "uvoz2013 = 0\n",
    "novi2013 = 0\n",
    "pravne2013 = 0\n",
    "fizicne2013 = 0\n",
    "stevec = 0\n",
    "reader = DictReader(open('podatki/2013/Vozila2013-1stRegs.csv','rt'), delimiter=';')\n",
    "for row in reader:\n",
    "    #print(row.keys())\n",
    "    if row['Kategorija vozila - opis'].lower() == 'osebni avtomobil':\n",
    "        stevec += 1\n",
    "        if row['Datum prve registracije'] != row['Datum prve registracije Slo']:\n",
    "            uvoz2013 += 1\n",
    "            if row['Lastnik fizična/pravna oseba'].upper() == \"F\":\n",
    "                fizicne2013 += 1\n",
    "            else:\n",
    "                pravne2013 += 1\n",
    "        else:\n",
    "            novi2013 += 1"
   ]
  },
  {
   "cell_type": "code",
   "execution_count": 5,
   "metadata": {
    "collapsed": false
   },
   "outputs": [],
   "source": [
    "fizicnePoLetih.append(fizicne2013 / uvoz2013)\n",
    "pravnePoLetih.append(pravne2013 / uvoz2013)\n",
    "uvoziPoLetih.append(uvoz2013 / stevec)\n",
    "noviPoLetih.append(novi2013 / stevec)"
   ]
  },
  {
   "cell_type": "markdown",
   "metadata": {},
   "source": [
    "**<h1>Leto 2014</h1>**"
   ]
  },
  {
   "cell_type": "code",
   "execution_count": 6,
   "metadata": {
    "collapsed": false
   },
   "outputs": [],
   "source": [
    "#Januar\n",
    "#Potreben encoding utf-16\n",
    "uvoz2014 = 0\n",
    "novi2014 = 0\n",
    "pravne2014 = 0\n",
    "fizicne2014 = 0\n",
    "stevec = 0\n",
    "reader = DictReader(open('podatki/2014/NIO_podatki_vozila_prve_reg_januar_2014.csv','rt',encoding='utf-16'), delimiter=';')\n",
    "for row in reader:\n",
    "    #print(row.keys())\n",
    "    if str(row['J-Kategorija in vrsta vozila (opis)']).lower() == 'osebni avtomobil':\n",
    "        stevec += 1\n",
    "        if row['B-Datum prve registracije vozila'] != row['2A-Datum prve registracije vozila v SLO']:\n",
    "            uvoz2014 += 1\n",
    "            if row['C2-Ali je lastnik pravna ali fizicna oseba'].upper() == \"F\":\n",
    "                fizicne2014 += 1\n",
    "            else:\n",
    "                pravne2014 += 1\n",
    "        else:\n",
    "            novi2014 += 1"
   ]
  },
  {
   "cell_type": "code",
   "execution_count": 7,
   "metadata": {
    "collapsed": false
   },
   "outputs": [],
   "source": [
    "#Februar\n",
    "reader = DictReader(open('podatki/2014/NIO_podatki_vozila_prve_reg_februar_2014.csv','rt'), delimiter=';')\n",
    "for row in reader:\n",
    "    #print(row.keys())\n",
    "    if str(row['J-Kategorija in vrsta vozila (opis)']).lower() == 'osebni avtomobil':\n",
    "        stevec += 1\n",
    "        if row['B-Datum prve registracije vozila'] != row['2A-Datum prve registracije vozila v SLO']:\n",
    "            uvoz2014 += 1\n",
    "            if row['C2-Ali je lastnik pravna ali fizicna oseba'].upper() == \"F\":\n",
    "                fizicne2014 += 1\n",
    "            else:\n",
    "                pravne2014 += 1\n",
    "        else:\n",
    "            novi2014 += 1"
   ]
  },
  {
   "cell_type": "code",
   "execution_count": 8,
   "metadata": {
    "collapsed": false
   },
   "outputs": [],
   "source": [
    "#Marec\n",
    "#Butast encoding utf-8 z BOM\n",
    "reader = DictReader(open('podatki/2014/NIO_podatki_vozila_prve_reg_marec.csv','rt',encoding='utf-8-sig'), delimiter=';')\n",
    "for row in reader:\n",
    "    if str(row['J-Kategorija in vrsta vozila (opis)']).lower() == 'osebni avtomobil':\n",
    "        stevec += 1\n",
    "        if row['B-Datum prve registracije vozila'] != row['2A-Datum prve registracije vozila v SLO']:\n",
    "            uvoz2014 += 1\n",
    "            if row['C2-Ali je lastnik pravna ali fizicna oseba'].upper() == \"F\":\n",
    "                fizicne2014 += 1\n",
    "            else:\n",
    "                pravne2014 += 1\n",
    "        else:\n",
    "            novi2014 += 1"
   ]
  },
  {
   "cell_type": "code",
   "execution_count": 9,
   "metadata": {
    "collapsed": false
   },
   "outputs": [],
   "source": [
    "#April\n",
    "reader = DictReader(open('podatki/2014/NIO_podatki_vozila_prve_reg_april.csv','rt'), delimiter=';')\n",
    "for row in reader:\n",
    "    if str(row['J-Kategorija in vrsta vozila (opis)']).lower() == 'osebni avtomobil':\n",
    "        stevec += 1\n",
    "        if row['B-Datum prve registracije vozila'] != row['2A-Datum prve registracije vozila v SLO']:\n",
    "            uvoz2014 += 1\n",
    "            if row['C2-Ali je lastnik pravna ali fizicna oseba'].upper() == \"F\":\n",
    "                fizicne2014 += 1\n",
    "            else:\n",
    "                pravne2014 += 1\n",
    "        else:\n",
    "            novi2014 += 1"
   ]
  },
  {
   "cell_type": "code",
   "execution_count": 10,
   "metadata": {
    "collapsed": false
   },
   "outputs": [],
   "source": [
    "#Maj\n",
    "reader = DictReader(open('podatki/2014/Podatki_052014.csv','rt'), delimiter=';')\n",
    "for row in reader:\n",
    "    if str(row['J-Kategorija in vrsta vozila (opis)']).lower() == 'osebni avtomobil':\n",
    "        stevec += 1\n",
    "        if row['B-Datum prve registracije vozila'] != row['2A-Datum prve registracije vozila v SLO']:\n",
    "            uvoz2014 += 1\n",
    "            if row['C2-Ali je lastnik pravna ali fizicna oseba'].upper() == \"F\":\n",
    "                fizicne2014 += 1\n",
    "            else:\n",
    "                pravne2014 += 1\n",
    "        else:\n",
    "            novi2014 += 1"
   ]
  },
  {
   "cell_type": "code",
   "execution_count": 11,
   "metadata": {
    "collapsed": false
   },
   "outputs": [],
   "source": [
    "#Junij\n",
    "reader = DictReader(open('podatki/2014/NPodatki_062014.csv','rt'), delimiter=';')\n",
    "for row in reader:\n",
    "    if str(row['J-Kategorija in vrsta vozila (opis)']).lower() == 'osebni avtomobil':\n",
    "        stevec += 1\n",
    "        if row['B-Datum prve registracije vozila'] != row['2A-Datum prve registracije vozila v SLO']:\n",
    "            uvoz2014 += 1\n",
    "            if row['C2-Ali je lastnik pravna ali fizicna oseba'].upper() == \"F\":\n",
    "                fizicne2014 += 1\n",
    "            else:\n",
    "                pravne2014 += 1\n",
    "        else:\n",
    "            novi2014 += 1"
   ]
  },
  {
   "cell_type": "code",
   "execution_count": 12,
   "metadata": {
    "collapsed": false
   },
   "outputs": [],
   "source": [
    "#Julij\n",
    "reader = DictReader(open('podatki/2014/NPodatki_072014.csv','rt'), delimiter=';')\n",
    "for row in reader:\n",
    "    if str(row['J-Kategorija in vrsta vozila (opis)']).lower() == 'osebni avtomobil':\n",
    "        stevec += 1\n",
    "        if row['B-Datum prve registracije vozila'] != row['2A-Datum prve registracije vozila v SLO']:\n",
    "            uvoz2014 += 1\n",
    "            if row['C2-Ali je lastnik pravna ali fizicna oseba'].upper() == \"F\":\n",
    "                fizicne2014 += 1\n",
    "            else:\n",
    "                pravne2014 += 1\n",
    "        else:\n",
    "            novi2014 += 1"
   ]
  },
  {
   "cell_type": "code",
   "execution_count": 13,
   "metadata": {
    "collapsed": false
   },
   "outputs": [],
   "source": [
    "#Avgust\n",
    "reader = DictReader(open('podatki/2014/NPodatki_082014.csv','rt'), delimiter=';')\n",
    "for row in reader:\n",
    "    if str(row['J-Kategorija in vrsta vozila (opis)']).lower() == 'osebni avtomobil':\n",
    "        stevec += 1\n",
    "        if row['B-Datum prve registracije vozila'] != row['2A-Datum prve registracije vozila v SLO']:\n",
    "            uvoz2014 += 1\n",
    "            if row['C2-Ali je lastnik pravna ali fizicna oseba'].upper() == \"F\":\n",
    "                fizicne2014 += 1\n",
    "            else:\n",
    "                pravne2014 += 1\n",
    "        else:\n",
    "            novi2014 += 1"
   ]
  },
  {
   "cell_type": "code",
   "execution_count": 14,
   "metadata": {
    "collapsed": true
   },
   "outputs": [],
   "source": [
    "#September\n",
    "reader = DictReader(open('podatki/2014/NPodatki_092014.csv','rt'), delimiter=';')\n",
    "for row in reader:\n",
    "    if str(row['J-Kategorija in vrsta vozila (opis)']).lower() == 'osebni avtomobil':\n",
    "        stevec += 1\n",
    "        if row['B-Datum prve registracije vozila'] != row['2A-Datum prve registracije vozila v SLO']:\n",
    "            uvoz2014 += 1\n",
    "            if row['C2-Ali je lastnik pravna ali fizicna oseba'].upper() == \"F\":\n",
    "                fizicne2014 += 1\n",
    "            else:\n",
    "                pravne2014 += 1\n",
    "        else:\n",
    "            novi2014 += 1"
   ]
  },
  {
   "cell_type": "code",
   "execution_count": 15,
   "metadata": {
    "collapsed": true
   },
   "outputs": [],
   "source": [
    "#Oktober\n",
    "reader = DictReader(open('podatki/2014/NPodatki_102014.csv','rt'), delimiter=';')\n",
    "for row in reader:\n",
    "    if str(row['J-Kategorija in vrsta vozila (opis)']).lower() == 'osebni avtomobil':\n",
    "        stevec += 1\n",
    "        if row['B-Datum prve registracije vozila'] != row['2A-Datum prve registracije vozila v SLO']:\n",
    "            uvoz2014 += 1\n",
    "            if row['C2-Ali je lastnik pravna ali fizicna oseba'].upper() == \"F\":\n",
    "                fizicne2014 += 1\n",
    "            else:\n",
    "                pravne2014 += 1\n",
    "        else:\n",
    "            novi2014 += 1"
   ]
  },
  {
   "cell_type": "code",
   "execution_count": 16,
   "metadata": {
    "collapsed": true
   },
   "outputs": [],
   "source": [
    "#November\n",
    "reader = DictReader(open('podatki/2014/NPodatki_112014.csv','rt'), delimiter=';')\n",
    "for row in reader:\n",
    "    if str(row['J-Kategorija in vrsta vozila (opis)']).lower() == 'osebni avtomobil':\n",
    "        stevec += 1\n",
    "        if row['B-Datum prve registracije vozila'] != row['2A-Datum prve registracije vozila v SLO']:\n",
    "            uvoz2014 += 1\n",
    "            if row['C2-Ali je lastnik pravna ali fizicna oseba'].upper() == \"F\":\n",
    "                fizicne2014 += 1\n",
    "            else:\n",
    "                pravne2014 += 1\n",
    "        else:\n",
    "            novi2014 += 1"
   ]
  },
  {
   "cell_type": "code",
   "execution_count": 17,
   "metadata": {
    "collapsed": true
   },
   "outputs": [],
   "source": [
    "#December\n",
    "reader = DictReader(open('podatki/2014/NPodatki_122014.csv','rt'), delimiter=';')\n",
    "for row in reader:\n",
    "    if str(row['J-Kategorija in vrsta vozila (opis)']).lower() == 'osebni avtomobil':\n",
    "        stevec += 1\n",
    "        if row['B-Datum prve registracije vozila'] != row['2A-Datum prve registracije vozila v SLO']:\n",
    "            uvoz2014 += 1\n",
    "            if row['C2-Ali je lastnik pravna ali fizicna oseba'].upper() == \"F\":\n",
    "                fizicne2014 += 1\n",
    "            else:\n",
    "                pravne2014 += 1\n",
    "        else:\n",
    "            novi2014 += 1"
   ]
  },
  {
   "cell_type": "code",
   "execution_count": 18,
   "metadata": {
    "collapsed": false
   },
   "outputs": [],
   "source": [
    "fizicnePoLetih.append(fizicne2014 / uvoz2014)\n",
    "pravnePoLetih.append(pravne2014 / uvoz2014)\n",
    "uvoziPoLetih.append(uvoz2014 / stevec)\n",
    "noviPoLetih.append(novi2014 / stevec)"
   ]
  },
  {
   "cell_type": "markdown",
   "metadata": {},
   "source": [
    "**<h1>Leto 2015</h1>**"
   ]
  },
  {
   "cell_type": "code",
   "execution_count": 19,
   "metadata": {
    "collapsed": false
   },
   "outputs": [],
   "source": [
    "#Januar\n",
    "uvoz2015 = 0\n",
    "novi2015 = 0\n",
    "pravne2015 = 0\n",
    "fizicne2015 = 0\n",
    "stevec = 0\n",
    "reader = DictReader(open('podatki/2015/NPodatki_012015.csv','rt'), delimiter=';')\n",
    "for row in reader:\n",
    "    #print(row.keys())\n",
    "    if str(row['J-Kategorija in vrsta vozila (opis)']).lower() == 'osebni avtomobil':\n",
    "        stevec += 1\n",
    "        if row['B-Datum prve registracije vozila'] != row['2A-Datum prve registracije vozila v SLO']:\n",
    "            uvoz2015 += 1\n",
    "            if row['C2-Ali je lastnik pravna ali fizicna oseba'].upper() == \"F\":\n",
    "                fizicne2015 += 1\n",
    "            else:\n",
    "                pravne2015 += 1\n",
    "        else:\n",
    "            novi2015 += 1"
   ]
  },
  {
   "cell_type": "code",
   "execution_count": 20,
   "metadata": {
    "collapsed": false
   },
   "outputs": [],
   "source": [
    "#Februar\n",
    "reader = DictReader(open('podatki/2015/NPodatki_022015.csv','rt'), delimiter=';')\n",
    "for row in reader:\n",
    "    #print(row.keys())\n",
    "    if str(row['J-Kategorija in vrsta vozila (opis)']).lower() == 'osebni avtomobil':\n",
    "        stevec += 1\n",
    "        if row['B-Datum prve registracije vozila'] != row['2A-Datum prve registracije vozila v SLO']:\n",
    "            uvoz2015 += 1\n",
    "            if row['C2-Ali je lastnik pravna ali fizicna oseba'].upper() == \"F\":\n",
    "                fizicne2015 += 1\n",
    "            else:\n",
    "                pravne2015 += 1\n",
    "        else:\n",
    "            novi2015 += 1"
   ]
  },
  {
   "cell_type": "code",
   "execution_count": 21,
   "metadata": {
    "collapsed": false
   },
   "outputs": [],
   "source": [
    "#Marec\n",
    "reader = DictReader(open('podatki/2015/NPodatki_032015.csv','rt'), delimiter=';')\n",
    "for row in reader:\n",
    "    #print(row.keys())\n",
    "    if str(row['J-Kategorija in vrsta vozila (opis)']).lower() == 'osebni avtomobil':\n",
    "        stevec += 1\n",
    "        if row['B-Datum prve registracije vozila'] != row['2A-Datum prve registracije vozila v SLO']:\n",
    "            uvoz2015 += 1\n",
    "            if row['C2-Ali je lastnik pravna ali fizicna oseba'].upper() == \"F\":\n",
    "                fizicne2015 += 1\n",
    "            else:\n",
    "                pravne2015 += 1\n",
    "        else:\n",
    "            novi2015 += 1"
   ]
  },
  {
   "cell_type": "code",
   "execution_count": 22,
   "metadata": {
    "collapsed": true
   },
   "outputs": [],
   "source": [
    "#April\n",
    "reader = DictReader(open('podatki/2015/NPodatki_042015.csv','rt'), delimiter=';')\n",
    "for row in reader:\n",
    "    #print(row.keys())\n",
    "    if str(row['J-Kategorija in vrsta vozila (opis)']).lower() == 'osebni avtomobil':\n",
    "        stevec += 1\n",
    "        if row['B-Datum prve registracije vozila'] != row['2A-Datum prve registracije vozila v SLO']:\n",
    "            uvoz2015 += 1\n",
    "            if row['C2-Ali je lastnik pravna ali fizicna oseba'].upper() == \"F\":\n",
    "                fizicne2015 += 1\n",
    "            else:\n",
    "                pravne2015 += 1\n",
    "        else:\n",
    "            novi2015 += 1"
   ]
  },
  {
   "cell_type": "code",
   "execution_count": 23,
   "metadata": {
    "collapsed": false
   },
   "outputs": [],
   "source": [
    "#Maj\n",
    "reader = DictReader(open('podatki/2015/NPodatki_052015.csv','rt'), delimiter=';')\n",
    "for row in reader:\n",
    "    #print(row.keys())\n",
    "    if str(row['J-Kategorija in vrsta vozila (opis)']).lower() == 'osebni avtomobil':\n",
    "        stevec += 1\n",
    "        if row['B-Datum prve registracije vozila'] != row['2A-Datum prve registracije vozila v SLO']:\n",
    "            uvoz2015 += 1\n",
    "            if row['C2-Ali je lastnik pravna ali fizicna oseba'].upper() == \"F\":\n",
    "                fizicne2015 += 1\n",
    "            else:\n",
    "                pravne2015 += 1\n",
    "        else:\n",
    "            novi2015 += 1"
   ]
  },
  {
   "cell_type": "code",
   "execution_count": 24,
   "metadata": {
    "collapsed": true
   },
   "outputs": [],
   "source": [
    "#Junij\n",
    "reader = DictReader(open('podatki/2015/NPodatki_062015.csv','rt'), delimiter=';')\n",
    "for row in reader:\n",
    "    #print(row.keys())\n",
    "    if str(row['J-Kategorija in vrsta vozila (opis)']).lower() == 'osebni avtomobil':\n",
    "        stevec += 1\n",
    "        if row['B-Datum prve registracije vozila'] != row['2A-Datum prve registracije vozila v SLO']:\n",
    "            uvoz2015 += 1\n",
    "            if row['C2-Ali je lastnik pravna ali fizicna oseba'].upper() == \"F\":\n",
    "                fizicne2015 += 1\n",
    "            else:\n",
    "                pravne2015 += 1\n",
    "        else:\n",
    "            novi2015 += 1"
   ]
  },
  {
   "cell_type": "code",
   "execution_count": 25,
   "metadata": {
    "collapsed": true
   },
   "outputs": [],
   "source": [
    "#Julij\n",
    "reader = DictReader(open('podatki/2015/NPodatki_072015.csv','rt'), delimiter=';')\n",
    "for row in reader:\n",
    "    #print(row.keys())\n",
    "    if str(row['J-Kategorija in vrsta vozila (opis)']).lower() == 'osebni avtomobil':\n",
    "        stevec += 1\n",
    "        if row['B-Datum prve registracije vozila'] != row['2A-Datum prve registracije vozila v SLO']:\n",
    "            uvoz2015 += 1\n",
    "            if row['C2-Ali je lastnik pravna ali fizicna oseba'].upper() == \"F\":\n",
    "                fizicne2015 += 1\n",
    "            else:\n",
    "                pravne2015 += 1\n",
    "        else:\n",
    "            novi2015 += 1"
   ]
  },
  {
   "cell_type": "code",
   "execution_count": 26,
   "metadata": {
    "collapsed": true
   },
   "outputs": [],
   "source": [
    "#Avgust\n",
    "reader = DictReader(open('podatki/2015/NPodatki_082015.csv','rt'), delimiter=';')\n",
    "for row in reader:\n",
    "    #print(row.keys())\n",
    "    if str(row['J-Kategorija in vrsta vozila (opis)']).lower() == 'osebni avtomobil':\n",
    "        stevec += 1\n",
    "        if row['B-Datum prve registracije vozila'] != row['2A-Datum prve registracije vozila v SLO']:\n",
    "            uvoz2015 += 1\n",
    "            if row['C2-Ali je lastnik pravna ali fizicna oseba'].upper() == \"F\":\n",
    "                fizicne2015 += 1\n",
    "            else:\n",
    "                pravne2015 += 1\n",
    "        else:\n",
    "            novi2015 += 1"
   ]
  },
  {
   "cell_type": "code",
   "execution_count": 27,
   "metadata": {
    "collapsed": false
   },
   "outputs": [],
   "source": [
    "#September\n",
    "reader = DictReader(open('podatki/2015/NPodatki_092015.csv','rt'), delimiter=';')\n",
    "for row in reader:\n",
    "    #print(row.keys())\n",
    "    if str(row['J-Kategorija in vrsta vozila (opis)']).lower() == 'osebni avtomobil':\n",
    "        stevec += 1\n",
    "        if row['B-Datum prve registracije vozila'] != row['2A-Datum prve registracije vozila v SLO']:\n",
    "            uvoz2015 += 1\n",
    "            if row['C2-Ali je lastnik pravna ali fizicna oseba'].upper() == \"F\":\n",
    "                fizicne2015 += 1\n",
    "            else:\n",
    "                pravne2015 += 1\n",
    "        else:\n",
    "            novi2015 += 1"
   ]
  },
  {
   "cell_type": "code",
   "execution_count": 28,
   "metadata": {
    "collapsed": true
   },
   "outputs": [],
   "source": [
    "#Oktober\n",
    "reader = DictReader(open('podatki/2015/NPodatki_102015.csv','rt'), delimiter=';')\n",
    "for row in reader:\n",
    "    #print(row.keys())\n",
    "    if str(row['J-Kategorija in vrsta vozila (opis)']).lower() == 'osebni avtomobil':\n",
    "        stevec += 1\n",
    "        if row['B-Datum prve registracije vozila'] != row['2A-Datum prve registracije vozila v SLO']:\n",
    "            uvoz2015 += 1\n",
    "            if row['C2-Ali je lastnik pravna ali fizicna oseba'].upper() == \"F\":\n",
    "                fizicne2015 += 1\n",
    "            else:\n",
    "                pravne2015 += 1\n",
    "        else:\n",
    "            novi2015 += 1"
   ]
  },
  {
   "cell_type": "code",
   "execution_count": 29,
   "metadata": {
    "collapsed": true
   },
   "outputs": [],
   "source": [
    "#November\n",
    "reader = DictReader(open('podatki/2015/NPodatki_112015.csv','rt'), delimiter=';')\n",
    "for row in reader:\n",
    "    #print(row.keys())\n",
    "    if str(row['J-Kategorija in vrsta vozila (opis)']).lower() == 'osebni avtomobil':\n",
    "        stevec += 1\n",
    "        if row['B-Datum prve registracije vozila'] != row['2A-Datum prve registracije vozila v SLO']:\n",
    "            uvoz2015 += 1\n",
    "            if row['C2-Ali je lastnik pravna ali fizicna oseba'].upper() == \"F\":\n",
    "                fizicne2015 += 1\n",
    "            else:\n",
    "                pravne2015 += 1\n",
    "        else:\n",
    "            novi2015 += 1"
   ]
  },
  {
   "cell_type": "code",
   "execution_count": 30,
   "metadata": {
    "collapsed": true
   },
   "outputs": [],
   "source": [
    "#December\n",
    "reader = DictReader(open('podatki/2015/NPodatki_122015.csv','rt'), delimiter=';')\n",
    "for row in reader:\n",
    "    #print(row.keys())\n",
    "    if str(row['J-Kategorija in vrsta vozila (opis)']).lower() == 'osebni avtomobil':\n",
    "        stevec += 1\n",
    "        if row['B-Datum prve registracije vozila'] != row['2A-Datum prve registracije vozila v SLO']:\n",
    "            uvoz2015 += 1\n",
    "            if row['C2-Ali je lastnik pravna ali fizicna oseba'].upper() == \"F\":\n",
    "                fizicne2015 += 1\n",
    "            else:\n",
    "                pravne2015 += 1\n",
    "        else:\n",
    "            novi2015 += 1"
   ]
  },
  {
   "cell_type": "code",
   "execution_count": 31,
   "metadata": {
    "collapsed": false
   },
   "outputs": [],
   "source": [
    "fizicnePoLetih.append(fizicne2015 / uvoz2015)\n",
    "pravnePoLetih.append(pravne2015 / uvoz2015)\n",
    "uvoziPoLetih.append(uvoz2015 / stevec)\n",
    "noviPoLetih.append(novi2015 / stevec)"
   ]
  },
  {
   "cell_type": "markdown",
   "metadata": {},
   "source": [
    "**<h1>Leto 2016</h1>**"
   ]
  },
  {
   "cell_type": "code",
   "execution_count": 32,
   "metadata": {
    "collapsed": true
   },
   "outputs": [],
   "source": [
    "#Januar\n",
    "uvoz2016 = 0\n",
    "novi2016 = 0\n",
    "pravne2016 = 0\n",
    "fizicne2016 = 0\n",
    "stevec = 0\n",
    "reader = DictReader(open('podatki/2016/NPodatki_012016.csv','rt'), delimiter=';')\n",
    "for row in reader:\n",
    "    #print(row.keys())\n",
    "    if str(row['J-Kategorija in vrsta vozila (opis)']).lower() == 'osebni avtomobil':\n",
    "        stevec += 1\n",
    "        if row['B-Datum prve registracije vozila'] != row['2A-Datum prve registracije vozila v SLO']:\n",
    "            uvoz2016 += 1\n",
    "            if row['C2-Ali je lastnik pravna ali fizicna oseba'].upper() == \"F\":\n",
    "                fizicne2016 += 1\n",
    "            else:\n",
    "                pravne2016 += 1\n",
    "        else:\n",
    "            novi2016 += 1"
   ]
  },
  {
   "cell_type": "code",
   "execution_count": 33,
   "metadata": {
    "collapsed": true
   },
   "outputs": [],
   "source": [
    "#Februar\n",
    "reader = DictReader(open('podatki/2016/NPodatki_022016.csv','rt'), delimiter=';')\n",
    "for row in reader:\n",
    "    #print(row.keys())\n",
    "    if str(row['J-Kategorija in vrsta vozila (opis)']).lower() == 'osebni avtomobil':\n",
    "        stevec += 1\n",
    "        if row['B-Datum prve registracije vozila'] != row['2A-Datum prve registracije vozila v SLO']:\n",
    "            uvoz2016 += 1\n",
    "            if row['C2-Ali je lastnik pravna ali fizicna oseba'].upper() == \"F\":\n",
    "                fizicne2016 += 1\n",
    "            else:\n",
    "                pravne2016 += 1\n",
    "        else:\n",
    "            novi2016 += 1"
   ]
  },
  {
   "cell_type": "code",
   "execution_count": 34,
   "metadata": {
    "collapsed": false
   },
   "outputs": [],
   "source": [
    "#Marec\n",
    "reader = DictReader(open('podatki/2016/NPodatki_032016.csv','rt'), delimiter=';')\n",
    "for row in reader:\n",
    "    #print(row.keys())\n",
    "    if str(row['J-Kategorija in vrsta vozila (opis)']).lower() == 'osebni avtomobil':\n",
    "        stevec += 1\n",
    "        if row['B-Datum prve registracije vozila'] != row['2A-Datum prve registracije vozila v SLO']:\n",
    "            uvoz2016 += 1\n",
    "            if row['C2-Ali je lastnik pravna ali fizicna oseba'].upper() == \"F\":\n",
    "                fizicne2016 += 1\n",
    "            else:\n",
    "                pravne2016 += 1\n",
    "        else:\n",
    "            novi2016 += 1"
   ]
  },
  {
   "cell_type": "code",
   "execution_count": 35,
   "metadata": {
    "collapsed": true
   },
   "outputs": [],
   "source": [
    "#April\n",
    "reader = DictReader(open('podatki/2016/NPodatki_042016.csv','rt'), delimiter=';')\n",
    "for row in reader:\n",
    "    #print(row.keys())\n",
    "    if str(row['J-Kategorija in vrsta vozila (opis)']).lower() == 'osebni avtomobil':\n",
    "        stevec += 1\n",
    "        if row['B-Datum prve registracije vozila'] != row['2A-Datum prve registracije vozila v SLO']:\n",
    "            uvoz2016 += 1\n",
    "            if row['C2-Ali je lastnik pravna ali fizicna oseba'].upper() == \"F\":\n",
    "                fizicne2016 += 1\n",
    "            else:\n",
    "                pravne2016 += 1\n",
    "        else:\n",
    "            novi2016 += 1"
   ]
  },
  {
   "cell_type": "code",
   "execution_count": 36,
   "metadata": {
    "collapsed": true
   },
   "outputs": [],
   "source": [
    "#Maj\n",
    "reader = DictReader(open('podatki/2016/NPodatki_052016.csv','rt'), delimiter=';')\n",
    "for row in reader:\n",
    "    #print(row.keys())\n",
    "    if str(row['J-Kategorija in vrsta vozila (opis)']).lower() == 'osebni avtomobil':\n",
    "        stevec += 1\n",
    "        if row['B-Datum prve registracije vozila'] != row['2A-Datum prve registracije vozila v SLO']:\n",
    "            uvoz2016 += 1\n",
    "            if row['C2-Ali je lastnik pravna ali fizicna oseba'].upper() == \"F\":\n",
    "                fizicne2016 += 1\n",
    "            else:\n",
    "                pravne2016 += 1\n",
    "        else:\n",
    "            novi2016 += 1"
   ]
  },
  {
   "cell_type": "code",
   "execution_count": 37,
   "metadata": {
    "collapsed": true
   },
   "outputs": [],
   "source": [
    "#Junij\n",
    "reader = DictReader(open('podatki/2016/NPodatki_062016.csv','rt'), delimiter=';')\n",
    "for row in reader:\n",
    "    #print(row.keys())\n",
    "    if str(row['J-Kategorija in vrsta vozila (opis)']).lower() == 'osebni avtomobil':\n",
    "        stevec += 1\n",
    "        if row['B-Datum prve registracije vozila'] != row['2A-Datum prve registracije vozila v SLO']:\n",
    "            uvoz2016 += 1\n",
    "            if row['C2-Ali je lastnik pravna ali fizicna oseba'].upper() == \"F\":\n",
    "                fizicne2016 += 1\n",
    "            else:\n",
    "                pravne2016 += 1\n",
    "        else:\n",
    "            novi2016 += 1"
   ]
  },
  {
   "cell_type": "code",
   "execution_count": 38,
   "metadata": {
    "collapsed": false
   },
   "outputs": [],
   "source": [
    "#Julij\n",
    "reader = DictReader(open('podatki/2016/NPodatki_072016.csv','rt'), delimiter=';')\n",
    "for row in reader:\n",
    "    #print(row.keys())\n",
    "    if str(row['J-Kategorija in vrsta vozila (opis)']).lower() == 'osebni avtomobil':\n",
    "        stevec += 1\n",
    "        if row['B-Datum prve registracije vozila'] != row['2A-Datum prve registracije vozila v SLO']:\n",
    "            uvoz2016 += 1\n",
    "            if row['C2-Ali je lastnik pravna ali fizicna oseba'].upper() == \"F\":\n",
    "                fizicne2016 += 1\n",
    "            else:\n",
    "                pravne2016 += 1\n",
    "        else:\n",
    "            novi2016 += 1"
   ]
  },
  {
   "cell_type": "code",
   "execution_count": 39,
   "metadata": {
    "collapsed": false
   },
   "outputs": [],
   "source": [
    "#Avgust\n",
    "reader = DictReader(open('podatki/2016/NPodatki_082016.csv','rt',encoding='ANSI'), delimiter=';')\n",
    "for row in reader:\n",
    "    #print(row.keys())\n",
    "    if str(row['J-Kategorija in vrsta vozila (opis)']).lower() == 'osebni avtomobil':\n",
    "        stevec += 1\n",
    "        if row['B-Datum prve registracije vozila'] != row['2A-Datum prve registracije vozila v SLO']:\n",
    "            uvoz2016 += 1\n",
    "            if row['C2-Ali je lastnik pravna ali fizicna oseba'].upper() == \"F\":\n",
    "                fizicne2016 += 1\n",
    "            else:\n",
    "                pravne2016 += 1\n",
    "        else:\n",
    "            novi2016 += 1"
   ]
  },
  {
   "cell_type": "code",
   "execution_count": 40,
   "metadata": {
    "collapsed": true
   },
   "outputs": [],
   "source": [
    "#September\n",
    "reader = DictReader(open('podatki/2016/NPodatki_092016.csv','rt'), delimiter=';')\n",
    "for row in reader:\n",
    "    #print(row.keys())\n",
    "    if str(row['J-Kategorija in vrsta vozila (opis)']).lower() == 'osebni avtomobil':\n",
    "        stevec += 1\n",
    "        if row['B-Datum prve registracije vozila'] != row['2A-Datum prve registracije vozila v SLO']:\n",
    "            uvoz2016 += 1\n",
    "            if row['C2-Ali je lastnik pravna ali fizicna oseba'].upper() == \"F\":\n",
    "                fizicne2016 += 1\n",
    "            else:\n",
    "                pravne2016 += 1\n",
    "        else:\n",
    "            novi2016 += 1"
   ]
  },
  {
   "cell_type": "code",
   "execution_count": 41,
   "metadata": {
    "collapsed": true
   },
   "outputs": [],
   "source": [
    "#Oktober\n",
    "reader = DictReader(open('podatki/2016/NPodatki_102016.csv','rt'), delimiter=';')\n",
    "for row in reader:\n",
    "    #print(row.keys())\n",
    "    if str(row['J-Kategorija in vrsta vozila (opis)']).lower() == 'osebni avtomobil':\n",
    "        stevec += 1\n",
    "        if row['B-Datum prve registracije vozila'] != row['2A-Datum prve registracije vozila v SLO']:\n",
    "            uvoz2016 += 1\n",
    "            if row['C2-Ali je lastnik pravna ali fizicna oseba'].upper() == \"F\":\n",
    "                fizicne2016 += 1\n",
    "            else:\n",
    "                pravne2016 += 1\n",
    "        else:\n",
    "            novi2016 += 1"
   ]
  },
  {
   "cell_type": "code",
   "execution_count": 42,
   "metadata": {
    "collapsed": true
   },
   "outputs": [],
   "source": [
    "#November\n",
    "reader = DictReader(open('podatki/2016/NPodatki_112016.csv','rt'), delimiter=';')\n",
    "for row in reader:\n",
    "    #print(row.keys())\n",
    "    if str(row['J-Kategorija in vrsta vozila (opis)']).lower() == 'osebni avtomobil':\n",
    "        stevec += 1\n",
    "        if row['B-Datum prve registracije vozila'] != row['2A-Datum prve registracije vozila v SLO']:\n",
    "            uvoz2016 += 1\n",
    "            if row['C2-Ali je lastnik pravna ali fizicna oseba'].upper() == \"F\":\n",
    "                fizicne2016 += 1\n",
    "            else:\n",
    "                pravne2016 += 1\n",
    "        else:\n",
    "            novi2016 += 1"
   ]
  },
  {
   "cell_type": "code",
   "execution_count": 43,
   "metadata": {
    "collapsed": false
   },
   "outputs": [],
   "source": [
    "#December\n",
    "reader = DictReader(open('podatki/2016/NPodatki_122016.csv','rt',encoding='ANSI'), delimiter=';')\n",
    "for row in reader:\n",
    "    #print(row.keys())\n",
    "    if str(row['J-Kategorija in vrsta vozila (opis)']).lower() == 'osebni avtomobil':\n",
    "        stevec += 1\n",
    "        if row['B-Datum prve registracije vozila'] != row['2A-Datum prve registracije vozila v SLO']:\n",
    "            uvoz2016 += 1\n",
    "            if row['C2-Ali je lastnik pravna ali fizicna oseba'].upper() == \"F\":\n",
    "                fizicne2016 += 1\n",
    "            else:\n",
    "                pravne2016 += 1\n",
    "        else:\n",
    "            novi2016 += 1"
   ]
  },
  {
   "cell_type": "code",
   "execution_count": 44,
   "metadata": {
    "collapsed": false
   },
   "outputs": [],
   "source": [
    "fizicnePoLetih.append(fizicne2016 / uvoz2016)\n",
    "pravnePoLetih.append(pravne2016 / uvoz2016)\n",
    "uvoziPoLetih.append(uvoz2016 / stevec)\n",
    "noviPoLetih.append(novi2016 / stevec)"
   ]
  },
  {
   "cell_type": "markdown",
   "metadata": {},
   "source": [
    "**<h1>Leto 2017</h1>**"
   ]
  },
  {
   "cell_type": "code",
   "execution_count": 45,
   "metadata": {
    "collapsed": true
   },
   "outputs": [],
   "source": [
    "#Januar\n",
    "uvoz2017 = 0\n",
    "novi2017 = 0\n",
    "pravne2017 = 0\n",
    "fizicne2017 = 0\n",
    "stevec = 0\n",
    "reader = DictReader(open('podatki/2017/Podatki_012017.csv','rt'), delimiter=';')\n",
    "for row in reader:\n",
    "    #print(row.keys())\n",
    "    if str(row['J-Kategorija in vrsta vozila (opis)']).lower() == 'osebni avtomobil':\n",
    "        stevec += 1\n",
    "        if row['B-Datum prve registracije vozila'] != row['2A-Datum prve registracije vozila v SLO']:\n",
    "            uvoz2017 += 1\n",
    "            if row['C2-Ali je lastnik pravna ali fizicna oseba'].upper() == \"F\":\n",
    "                fizicne2017 += 1\n",
    "            else:\n",
    "                pravne2017 += 1\n",
    "        else:\n",
    "            novi2017 += 1"
   ]
  },
  {
   "cell_type": "code",
   "execution_count": 46,
   "metadata": {
    "collapsed": true
   },
   "outputs": [],
   "source": [
    "#Februar\n",
    "reader = DictReader(open('podatki/2017/Podatki_022017.csv','rt'), delimiter=';')\n",
    "for row in reader:\n",
    "    #print(row.keys())\n",
    "    if str(row['J-Kategorija in vrsta vozila (opis)']).lower() == 'osebni avtomobil':\n",
    "        stevec += 1\n",
    "        if row['B-Datum prve registracije vozila'] != row['2A-Datum prve registracije vozila v SLO']:\n",
    "            uvoz2017 += 1\n",
    "            if row['C2-Ali je lastnik pravna ali fizicna oseba'].upper() == \"F\":\n",
    "                fizicne2017 += 1\n",
    "            else:\n",
    "                pravne2017 += 1\n",
    "        else:\n",
    "            novi2017 += 1"
   ]
  },
  {
   "cell_type": "code",
   "execution_count": 47,
   "metadata": {
    "collapsed": true
   },
   "outputs": [],
   "source": [
    "#Marec\n",
    "reader = DictReader(open('podatki/2017/Podatki_032017.csv','rt'), delimiter=';')\n",
    "for row in reader:\n",
    "    #print(row.keys())\n",
    "    if str(row['J-Kategorija in vrsta vozila (opis)']).lower() == 'osebni avtomobil':\n",
    "        stevec += 1\n",
    "        if row['B-Datum prve registracije vozila'] != row['2A-Datum prve registracije vozila v SLO']:\n",
    "            uvoz2017 += 1\n",
    "            if row['C2-Ali je lastnik pravna ali fizicna oseba'].upper() == \"F\":\n",
    "                fizicne2017 += 1\n",
    "            else:\n",
    "                pravne2017 += 1\n",
    "        else:\n",
    "            novi2017 += 1"
   ]
  },
  {
   "cell_type": "code",
   "execution_count": 48,
   "metadata": {
    "collapsed": true
   },
   "outputs": [],
   "source": [
    "#April\n",
    "reader = DictReader(open('podatki/2017/Podatki_042017.csv','rt'), delimiter=';')\n",
    "for row in reader:\n",
    "    #print(row.keys())\n",
    "    if str(row['J-Kategorija in vrsta vozila (opis)']).lower() == 'osebni avtomobil':\n",
    "        stevec += 1\n",
    "        if row['B-Datum prve registracije vozila'] != row['2A-Datum prve registracije vozila v SLO']:\n",
    "            uvoz2017 += 1\n",
    "            if row['C2-Ali je lastnik pravna ali fizicna oseba'].upper() == \"F\":\n",
    "                fizicne2017 += 1\n",
    "            else:\n",
    "                pravne2017 += 1\n",
    "        else:\n",
    "            novi2017 += 1"
   ]
  },
  {
   "cell_type": "code",
   "execution_count": 49,
   "metadata": {
    "collapsed": true
   },
   "outputs": [],
   "source": [
    "#Maj\n",
    "reader = DictReader(open('podatki/2017/Podatki_052017.csv','rt'), delimiter=';')\n",
    "for row in reader:\n",
    "    #print(row.keys())\n",
    "    if str(row['J-Kategorija in vrsta vozila (opis)']).lower() == 'osebni avtomobil':\n",
    "        stevec += 1\n",
    "        if row['B-Datum prve registracije vozila'] != row['2A-Datum prve registracije vozila v SLO']:\n",
    "            uvoz2017 += 1\n",
    "            if row['C2-Ali je lastnik pravna ali fizicna oseba'].upper() == \"F\":\n",
    "                fizicne2017 += 1\n",
    "            else:\n",
    "                pravne2017 += 1\n",
    "        else:\n",
    "            novi2017 += 1"
   ]
  },
  {
   "cell_type": "code",
   "execution_count": 50,
   "metadata": {
    "collapsed": true
   },
   "outputs": [],
   "source": [
    "#Junij\n",
    "reader = DictReader(open('podatki/2017/Podatki_062017.csv','rt'), delimiter=';')\n",
    "for row in reader:\n",
    "    #print(row.keys())\n",
    "    if str(row['J-Kategorija in vrsta vozila (opis)']).lower() == 'osebni avtomobil':\n",
    "        stevec += 1\n",
    "        if row['B-Datum prve registracije vozila'] != row['2A-Datum prve registracije vozila v SLO']:\n",
    "            uvoz2017 += 1\n",
    "            if row['C2-Ali je lastnik pravna ali fizicna oseba'].upper() == \"F\":\n",
    "                fizicne2017 += 1\n",
    "            else:\n",
    "                pravne2017 += 1\n",
    "        else:\n",
    "            novi2017 += 1"
   ]
  },
  {
   "cell_type": "code",
   "execution_count": 51,
   "metadata": {
    "collapsed": true
   },
   "outputs": [],
   "source": [
    "#Julij\n",
    "reader = DictReader(open('podatki/2017/Podatki_072017.csv','rt'), delimiter=';')\n",
    "for row in reader:\n",
    "    #print(row.keys())\n",
    "    if str(row['J-Kategorija in vrsta vozila (opis)']).lower() == 'osebni avtomobil':\n",
    "        stevec += 1\n",
    "        if row['B-Datum prve registracije vozila'] != row['2A-Datum prve registracije vozila v SLO']:\n",
    "            uvoz2017 += 1\n",
    "            if row['C2-Ali je lastnik pravna ali fizicna oseba'].upper() == \"F\":\n",
    "                fizicne2017 += 1\n",
    "            else:\n",
    "                pravne2017 += 1\n",
    "        else:\n",
    "            novi2017 += 1"
   ]
  },
  {
   "cell_type": "code",
   "execution_count": 52,
   "metadata": {
    "collapsed": true
   },
   "outputs": [],
   "source": [
    "#Avgust\n",
    "reader = DictReader(open('podatki/2017/Podatki_082017.csv','rt'), delimiter=';')\n",
    "for row in reader:\n",
    "    #print(row.keys())\n",
    "    if str(row['J-Kategorija in vrsta vozila (opis)']).lower() == 'osebni avtomobil':\n",
    "        stevec += 1\n",
    "        if row['B-Datum prve registracije vozila'] != row['2A-Datum prve registracije vozila v SLO']:\n",
    "            uvoz2017 += 1\n",
    "            if row['C2-Ali je lastnik pravna ali fizicna oseba'].upper() == \"F\":\n",
    "                fizicne2017 += 1\n",
    "            else:\n",
    "                pravne2017 += 1\n",
    "        else:\n",
    "            novi2017 += 1"
   ]
  },
  {
   "cell_type": "code",
   "execution_count": 53,
   "metadata": {
    "collapsed": false
   },
   "outputs": [],
   "source": [
    "#September\n",
    "reader = DictReader(open('podatki/2017/Podatki_092017.csv','rt',encoding='ANSI'), delimiter=';')\n",
    "for row in reader:\n",
    "    #print(row.keys())\n",
    "    if str(row['J-Kategorija in vrsta vozila (opis)']).lower() == 'osebni avtomobil':\n",
    "        stevec += 1\n",
    "        if row['B-Datum prve registracije vozila'] != row['2A-Datum prve registracije vozila v SLO']:\n",
    "            uvoz2017 += 1\n",
    "            if row['C2-Ali je lastnik pravna ali fizicna oseba'].upper() == \"F\":\n",
    "                fizicne2017 += 1\n",
    "            else:\n",
    "                pravne2017 += 1\n",
    "        else:\n",
    "            novi2017 += 1"
   ]
  },
  {
   "cell_type": "code",
   "execution_count": 54,
   "metadata": {
    "collapsed": false
   },
   "outputs": [],
   "source": [
    "#Oktober\n",
    "reader = DictReader(open('podatki/2017/Podatki_102017.csv','rt'), delimiter=';')\n",
    "for row in reader:\n",
    "    #print(row.keys())\n",
    "    if str(row['J-Kategorija in vrsta vozila (opis)']).lower() == 'osebni avtomobil':\n",
    "        stevec += 1\n",
    "        if row['B-Datum prve registracije vozila'] != row['2A-Datum prve registracije vozila v SLO']:\n",
    "            uvoz2017 += 1\n",
    "            if row['C2-Ali je lastnik pravna ali fizicna oseba'].upper() == \"F\":\n",
    "                fizicne2017 += 1\n",
    "            else:\n",
    "                pravne2017 += 1\n",
    "        else:\n",
    "            novi2017 += 1"
   ]
  },
  {
   "cell_type": "code",
   "execution_count": 55,
   "metadata": {
    "collapsed": false
   },
   "outputs": [],
   "source": [
    "#November\n",
    "reader = DictReader(open('podatki/2017/Podatki_112017.csv','rt',encoding='ANSI'), delimiter=';')\n",
    "for row in reader:\n",
    "    #print(row.keys())\n",
    "    if str(row['J-Kategorija in vrsta vozila (opis)']).lower() == 'osebni avtomobil':\n",
    "        stevec += 1\n",
    "        if row['B-Datum prve registracije vozila'] != row['2A-Datum prve registracije vozila v SLO']:\n",
    "            uvoz2017 += 1\n",
    "            if row['C2-Ali je lastnik pravna ali fizicna oseba'].upper() == \"F\":\n",
    "                fizicne2017 += 1\n",
    "            else:\n",
    "                pravne2017 += 1\n",
    "        else:\n",
    "            novi2017 += 1"
   ]
  },
  {
   "cell_type": "code",
   "execution_count": 56,
   "metadata": {
    "collapsed": false
   },
   "outputs": [],
   "source": [
    "#December\n",
    "reader = DictReader(open('podatki/2017/Podatki_122017.csv','rt',encoding='ANSI'), delimiter=';')\n",
    "for row in reader:\n",
    "    #print(row.keys())\n",
    "    if str(row['J-Kategorija in vrsta vozila (opis)']).lower() == 'osebni avtomobil':\n",
    "        stevec += 1\n",
    "        if row['B-Datum prve registracije vozila'] != row['2A-Datum prve registracije vozila v SLO']:\n",
    "            uvoz2017 += 1\n",
    "            if row['C2-Ali je lastnik pravna ali fizicna oseba'].upper() == \"F\":\n",
    "                fizicne2017 += 1\n",
    "            else:\n",
    "                pravne2017 += 1\n",
    "        else:\n",
    "            novi2017 += 1"
   ]
  },
  {
   "cell_type": "code",
   "execution_count": 57,
   "metadata": {
    "collapsed": false
   },
   "outputs": [],
   "source": [
    "fizicnePoLetih.append(fizicne2017 / uvoz2017)\n",
    "pravnePoLetih.append(pravne2017 / uvoz2017)\n",
    "uvoziPoLetih.append(uvoz2017 / stevec)\n",
    "noviPoLetih.append(novi2017 / stevec)"
   ]
  },
  {
   "cell_type": "code",
   "execution_count": 58,
   "metadata": {
    "collapsed": false
   },
   "outputs": [
    {
     "data": {
      "image/png": "[encoded data removed]",
      "text/plain": [
       "<matplotlib.figure.Figure at 0x26c0736ec88>"
      ]
     },
     "metadata": {},
     "output_type": "display_data"
    }
   ],
   "source": [
    "fig = plt.figure(figsize=(15,10))\n",
    "plt.plot(uvoziPoLetih,label='Uvožena vozila',linewidth=3.0)\n",
    "plt.plot(noviPoLetih,label='Nova vozila',linewidth=3.0)\n",
    "plt.ylabel('Procent prodaje',fontsize=20)\n",
    "plt.xlabel('Leta',fontsize=20)\n",
    "plt.xticks(range(0,6), list(['2012','2013','2014','2015','2016','2017']),rotation='vertical',fontsize=20)\n",
    "plt.yticks(fontsize=20)\n",
    "plt.ylim(ymin=0)\n",
    "plt.title(\"Spreminjanje uvoza in nakupa (novih) vozil od leta 2012 do leta 2017\",fontsize=20)\n",
    "leg = plt.legend(fontsize=15)\n",
    "plt.show()"
   ]
  },
  {
   "cell_type": "code",
   "execution_count": 59,
   "metadata": {
    "collapsed": false
   },
   "outputs": [],
   "source": [
    "fig.savefig('prikaz_uvoza_in_nakupa.png')"
   ]
  },
  {
   "cell_type": "code",
   "execution_count": 60,
   "metadata": {
    "collapsed": false
   },
   "outputs": [
    {
     "data": {
      "image/png": "[encoded data removed]",
      "text/plain": [
       "<matplotlib.figure.Figure at 0x26c09afa048>"
      ]
     },
     "metadata": {},
     "output_type": "display_data"
    }
   ],
   "source": [
    "fig = plt.figure(figsize=(15,10))\n",
    "plt.plot(pravnePoLetih,label='Uvoz vozil pravnim osebam',linewidth=3.0)\n",
    "plt.plot(fizicnePoLetih,label='Uvoz vozil fizičnim osebam',linewidth=3.0)\n",
    "plt.ylabel('Procent prodaje',fontsize=20)\n",
    "plt.xlabel('Leta',fontsize=20)\n",
    "plt.xticks(range(0,6), list(['2012','2013','2014','2015','2016','2017']),rotation='vertical',fontsize=20)\n",
    "plt.yticks(fontsize=20)\n",
    "plt.ylim(ymin=0)\n",
    "plt.title(\"Spreminjanje uvoza in nakupa (novih) vozil od leta 2012 do leta 2017\",fontsize=20)\n",
    "leg = plt.legend(fontsize=15)\n",
    "plt.show()"
   ]
  },
  {
   "cell_type": "code",
   "execution_count": 61,
   "metadata": {
    "collapsed": true
   },
   "outputs": [],
   "source": [
    "fig.savefig('prikaz_uvoza_za_fizicne_in_pravne_osebe.png')"
   ]
  }
 ],
 "metadata": {
  "kernelspec": {
   "display_name": "Python 3",
   "language": "python",
   "name": "python3"
  },
  "language_info": {
   "codemirror_mode": {
    "name": "ipython",
    "version": 3
   },
   "file_extension": ".py",
   "mimetype": "text/x-python",
   "name": "python",
   "nbconvert_exporter": "python",
   "pygments_lexer": "ipython3",
   "version": "3.6.0"
  }
 },
 "nbformat": 4,
 "nbformat_minor": 2
}
